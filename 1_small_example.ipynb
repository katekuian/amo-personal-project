{
 "cells": [
  {
   "cell_type": "code",
   "execution_count": 1,
   "metadata": {},
   "outputs": [
    {
     "name": "stderr",
     "output_type": "stream",
     "text": [
      "\u001b[32m\u001b[1m  Activating\u001b[22m\u001b[39m project at `c:\\Dev\\amo-personal-project`\n"
     ]
    }
   ],
   "source": [
    "using Pkg\n",
    "Pkg.activate(\".\")\n",
    "Pkg.instantiate()"
   ]
  },
  {
   "cell_type": "code",
   "execution_count": 2,
   "metadata": {},
   "outputs": [],
   "source": [
    "# Pkg.add(\"JuMP\")\n",
    "# Pkg.add(\"HiGHS\")\n",
    "# Pkg.add(\"Plots\")\n",
    "using JuMP, HiGHS, Plots"
   ]
  },
  {
   "cell_type": "code",
   "execution_count": 3,
   "metadata": {},
   "outputs": [
    {
     "data": {
      "text/plain": [
       "2-element Vector{Int64}:\n",
       " 1\n",
       " 2"
      ]
     },
     "metadata": {},
     "output_type": "display_data"
    }
   ],
   "source": [
    "# Define all sets\n",
    "T = collect(1:2) # time periods\n",
    "n_N = 3 # number of nodes\n",
    "N = collect(1:n_N) # nodes\n",
    "G = collect(1:3) # generators\n",
    "L = collect(1:2) # transmission lines"
   ]
  },
  {
   "cell_type": "code",
   "execution_count": 4,
   "metadata": {},
   "outputs": [
    {
     "data": {
      "text/plain": [
       "3×3 Matrix{Float64}:\n",
       "  0.0  1.0  2.0\n",
       " -1.0  0.0  0.0\n",
       " -2.0  0.0  0.0"
      ]
     },
     "metadata": {},
     "output_type": "display_data"
    }
   ],
   "source": [
    "# Define connections between nodes as an upper triangular matrix\n",
    "orig_n = [1,1]\n",
    "dest_n = [2,3]\n",
    "\n",
    "lines = zeros(n_N, n_N)\n",
    "\n",
    "for i in 1:size(orig_n)[1]\n",
    "    lines[orig_n[i], dest_n[i]] = i # incoming transmission lines\n",
    "    lines[dest_n[i], orig_n[i]] = -i # outgoing transmission lines\n",
    "end\n",
    "lines"
   ]
  },
  {
   "cell_type": "code",
   "execution_count": 5,
   "metadata": {},
   "outputs": [
    {
     "data": {
      "text/plain": [
       "get_lines_for_node (generic function with 1 method)"
      ]
     },
     "metadata": {},
     "output_type": "display_data"
    }
   ],
   "source": [
    "function get_lines_for_node(node, incoming)\n",
    "    if incoming\n",
    "        return filter(i -> i >= 1.0, lines[node, 1:end])\n",
    "    end\n",
    "    return filter(i -> i <= -1.0, lines[node, 1:end])\n",
    "end"
   ]
  },
  {
   "cell_type": "code",
   "execution_count": 6,
   "metadata": {},
   "outputs": [
    {
     "data": {
      "text/plain": [
       "3-element Vector{Int64}:\n",
       " 150\n",
       " 100\n",
       "   0"
      ]
     },
     "metadata": {},
     "output_type": "display_data"
    }
   ],
   "source": [
    "# Parameters\n",
    "c = [10, 1, 1]\n",
    "P_max = [ # maximum generation capacity of each generator\n",
    "    [200, 200], # convetional generators\n",
    "    [150, 50], # renewable generators\n",
    "    [150, 0]\n",
    "] \n",
    "F_max = [200, 200] # transmission line capacity\n",
    "B_max = [50, 50, 50] # battery capacity\n",
    "D = [150, 100, 0] # demand "
   ]
  },
  {
   "cell_type": "code",
   "execution_count": 7,
   "metadata": {},
   "outputs": [
    {
     "data": {
      "text/plain": [
       "3-element Vector{Int64}:\n",
       " 1\n",
       " 2\n",
       " 3"
      ]
     },
     "metadata": {},
     "output_type": "display_data"
    }
   ],
   "source": [
    "# Location of the generators\n",
    "loc_G = [1,2,3]"
   ]
  },
  {
   "cell_type": "code",
   "execution_count": 8,
   "metadata": {},
   "outputs": [
    {
     "data": {
      "text/plain": [
       "get_generator_for_node (generic function with 1 method)"
      ]
     },
     "metadata": {},
     "output_type": "display_data"
    }
   ],
   "source": [
    "function get_generator_for_node(node)\n",
    "    return findall(i -> i == node, loc_G)\n",
    "end"
   ]
  },
  {
   "cell_type": "code",
   "execution_count": 9,
   "metadata": {},
   "outputs": [
    {
     "data": {
      "text/plain": [
       "3-element Vector{Int64}:\n",
       " 0\n",
       " 1\n",
       " 2"
      ]
     },
     "metadata": {},
     "output_type": "display_data"
    }
   ],
   "source": [
    "vcat([0],T)"
   ]
  },
  {
   "cell_type": "code",
   "execution_count": 10,
   "metadata": {},
   "outputs": [
    {
     "name": "stdout",
     "output_type": "stream",
     "text": [
      "Min 10 P[1,1] + 10 P[1,2] + P[2,1] + P[2,2] + P[3,1] + P[3,2]\n",
      "Subject to\n"
     ]
    },
    {
     "name": "stdout",
     "output_type": "stream",
     "text": [
      " init_battery_charge[1] : B[1,0] == 0.0\n",
      " init_battery_charge[2] : B[2,0] == 0.0\n",
      " init_battery_charge[3] : B[3,0] == 0.0\n",
      " battery_charge[1,1] : B[1,0] - B[1,1] + ΔB[1,1] == 0.0\n",
      " battery_charge[2,1] : B[2,0] - B[2,1] + ΔB[2,1] == 0.0\n",
      " battery_charge[3,1] : B[3,0] - B[3,1] + ΔB[3,1] == 0.0\n",
      " battery_charge[1,2] : B[1,1] - B[1,2] + ΔB[1,2] == 0.0\n",
      " battery_charge[2,2] : B[2,1] - B[2,2] + ΔB[2,2] == 0.0\n",
      " battery_charge[3,2] : B[3,1] - B[3,2] + ΔB[3,2] == 0.0\n",
      " power_flow[1,1] : P[1,1] + F[1,1] + F[2,1] - ΔB[1,1] == 150.0\n",
      " power_flow[2,1] : P[2,1] - F[1,1] - ΔB[2,1] == 100.0\n",
      " power_flow[3,1] : P[3,1] - F[2,1] - ΔB[3,1] == 0.0\n",
      " power_flow[1,2] : P[1,2] + F[1,2] + F[2,2] - ΔB[1,2] == 150.0\n",
      " power_flow[2,2] : P[2,2] - F[1,2] - ΔB[2,2] == 100.0\n",
      " power_flow[3,2] : P[3,2] - F[2,2] - ΔB[3,2] == 0.0\n",
      " P[1,1] >= 0.0\n",
      " P[2,1] >= 0.0\n",
      " P[3,1] >= 0.0\n",
      " P[1,2] >= 0.0\n",
      " P[2,2] >= 0.0\n",
      " P[3,2] >= 0.0\n",
      " F[1,1] >= -200.0\n",
      " F[2,1] >= -200.0\n",
      " F[1,2] >= -200.0\n",
      " F[2,2] >= -200.0\n",
      " B[1,0] >= 0.0\n",
      " B[2,0] >= 0.0\n",
      " B[3,0] >= 0.0\n",
      " B[1,1] >= 0.0\n",
      " B[2,1] >= 0.0\n",
      " B[3,1] >= 0.0\n",
      " B[1,2] >= 0.0\n",
      " B[2,2] >= 0.0\n",
      " B[3,2] >= 0.0\n",
      " P[1,1] <= 200.0\n",
      " P[2,1] <= 150.0\n",
      " P[3,1] <= 150.0\n",
      " P[1,2] <= 200.0\n",
      " P[2,2] <= 50.0\n",
      " P[3,2] <= 0.0\n",
      " F[1,1] <= 200.0\n",
      " F[2,1] <= 200.0\n",
      " F[1,2] <= 200.0\n",
      " F[2,2] <= 200.0\n",
      " B[1,0] <= 50.0\n",
      " B[2,0] <= 50.0\n",
      " B[3,0] <= 50.0\n",
      " B[1,1] <= 50.0\n",
      " B[2,1] <= 50.0\n",
      " B[3,1] <= 50.0\n",
      " B[1,2] <= 50.0\n",
      " B[2,2] <= 50.0\n",
      " B[3,2] <= 50.0\n"
     ]
    }
   ],
   "source": [
    "model = Model(HiGHS.Optimizer)\n",
    "\n",
    "@variable(model, P_max[g][t] >= P[g in G, t in T] >= 0) \n",
    "@variable(model, F_max[l] >= F[l in L, t in T] >= -F_max[l])\n",
    "\n",
    "@variable(model, B_max[n] >= B[n in N, t in vcat([0],T)] >= 0) \n",
    "@variable(model, ΔB[n in N, t in T])\n",
    "\n",
    "@constraint(model, init_battery_charge[n in N], B[n, 0] == 0)\n",
    "@constraint(model, battery_charge[n in N, t in T], B[n,t-1] + ΔB[n,t] == B[n, t])\n",
    "\n",
    "@constraint(model, power_flow[n in N, t in T], \n",
    "    sum(P[g,t] for g in get_generator_for_node(n))\n",
    "    - D[n]\n",
    "    + sum(F[i,t] for i in get_lines_for_node(n, true))\n",
    "    - sum(F[-i,t] for i in get_lines_for_node(n, false))\n",
    "    - ΔB[n,t]\n",
    "    == 0\n",
    ")\n",
    "\n",
    "@objective(model, Min, sum(c[g]*P[g,t] for g in G, t in T))\n",
    "\n",
    "print(model)"
   ]
  },
  {
   "cell_type": "code",
   "execution_count": 11,
   "metadata": {},
   "outputs": [
    {
     "name": "stdout",
     "output_type": "stream",
     "text": [
      "Running HiGHS 1.4.2 [date: 1970-01-01, git hash: f797c1ab6]\n",
      "Copyright (c) 2022 ERGO-Code under MIT licence terms\n",
      "Presolving model\n",
      "9 rows, 18 cols, 28 nonzeros\n",
      "5 rows, 14 cols, 20 nonzeros\n",
      "5 rows, 13 cols, 19 nonzeros\n",
      "Presolve : Reductions: rows 5(-10); columns 13(-12); elements 19(-22)\n",
      "Solving the presolved LP\n",
      "Using EKK dual simplex solver - serial\n",
      "  Iteration        Objective     Infeasibilities num(sum)\n",
      "          0    -2.1921323676e-05 Pr: 3(600); Du: 0(2.87425e-13) 0s\n",
      "          6     1.8500000000e+03 Pr: 0(0) 0s\n",
      "Solving the original LP from the solution after postsolve\n",
      "Model   status      : Optimal\n",
      "Simplex   iterations: 6\n",
      "Objective value     :  1.8500000000e+03\n",
      "HiGHS run time      :          0.01\n"
     ]
    }
   ],
   "source": [
    "optimize!(model)"
   ]
  },
  {
   "cell_type": "code",
   "execution_count": 12,
   "metadata": {},
   "outputs": [
    {
     "name": "stdout",
     "output_type": "stream",
     "text": [
      "2-dimensional DenseAxisArray{Float64,2,...} with index sets:\n",
      "    Dimension 1, [1, 2, 3]\n",
      "    Dimension 2, [1, 2]\n",
      "And data, a 3×2 Matrix{Float64}:\n",
      "   0.0  150.0\n",
      " 150.0   50.0\n",
      " 150.0    0.02-dimensional DenseAxisArray{Float64,2,...} with index sets:\n",
      "    Dimension 1, [1, 2, 3]\n",
      "    Dimension 2, [0, 1, 2]\n",
      "And data, a 3×3 Matrix{Float64}:\n",
      " -0.0  50.0  0.0\n",
      " -0.0  -0.0  0.0\n",
      " -0.0   0.0  0.02-dimensional DenseAxisArray{Float64,2,...} with index sets:\n",
      "    Dimension 1, [1, 2, 3]\n",
      "    Dimension 2, [1, 2]\n",
      "And data, a 3×2 Matrix{Float64}:\n",
      " 50.0  -50.0\n",
      " -0.0   -0.0\n",
      " -0.0   -0.02-dimensional DenseAxisArray{Float64,2,...} with index sets:\n",
      "    Dimension 1, [1, 2]\n",
      "    Dimension 2, [1, 2]\n",
      "And data, a 2×2 Matrix{Float64}:\n",
      "  50.0  -50.0\n",
      " 150.0   -0.0"
     ]
    }
   ],
   "source": [
    "print(value.(P))\n",
    "print(value.(B))\n",
    "print(value.(ΔB))\n",
    "print(value.(F))"
   ]
  },
  {
   "cell_type": "code",
   "execution_count": 13,
   "metadata": {},
   "outputs": [],
   "source": []
  }
 ],
 "metadata": {
  "kernelspec": {
   "display_name": "Julia 1.8.5",
   "language": "julia",
   "name": "julia-1.8"
  },
  "language_info": {
   "file_extension": ".jl",
   "mimetype": "application/julia",
   "name": "julia",
   "version": "1.8.5"
  },
  "orig_nbformat": 4
 },
 "nbformat": 4,
 "nbformat_minor": 2
}
