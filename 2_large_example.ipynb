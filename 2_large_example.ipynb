{
 "cells": [
  {
   "cell_type": "code",
   "execution_count": 46,
   "metadata": {},
   "outputs": [
    {
     "name": "stderr",
     "output_type": "stream",
     "text": [
      "\u001b[32m\u001b[1m  Activating\u001b[22m\u001b[39m project at `c:\\Dev\\amo-personal-project`"
     ]
    },
    {
     "name": "stderr",
     "output_type": "stream",
     "text": [
      "\n"
     ]
    }
   ],
   "source": [
    "using Pkg\n",
    "Pkg.activate(\".\")\n",
    "Pkg.instantiate()"
   ]
  },
  {
   "cell_type": "code",
   "execution_count": 47,
   "metadata": {},
   "outputs": [],
   "source": [
    "using JuMP, HiGHS, Plots, DataFrames"
   ]
  },
  {
   "cell_type": "code",
   "execution_count": 48,
   "metadata": {},
   "outputs": [
    {
     "data": {
      "text/plain": [
       "4-element Vector{Int64}:\n",
       " 1\n",
       " 2\n",
       " 3\n",
       " 4"
      ]
     },
     "metadata": {},
     "output_type": "display_data"
    }
   ],
   "source": [
    "# Define all sets\n",
    "T = collect(1:3) # time periods\n",
    "Ω = collect(1:4) # scenarios\n",
    "\n",
    "n_N = 24 # number of nodes\n",
    "N = collect(1:n_N) # nodes\n",
    "L = collect(1:34) # set of transmission lines\n",
    "G_c = collect(1:12) # convetional generators\n",
    "G_r = collect(1:4) # renewable generators"
   ]
  },
  {
   "cell_type": "code",
   "execution_count": 49,
   "metadata": {},
   "outputs": [
    {
     "data": {
      "text/plain": [
       "4-element Vector{Float64}:\n",
       " 0.25\n",
       " 0.25\n",
       " 0.25\n",
       " 0.25"
      ]
     },
     "metadata": {},
     "output_type": "display_data"
    }
   ],
   "source": [
    "# scenario probabilities\n",
    "π_ω = [0.25,0.25,0.25,0.25]"
   ]
  },
  {
   "cell_type": "code",
   "execution_count": 50,
   "metadata": {},
   "outputs": [
    {
     "data": {
      "text/plain": [
       "24×24 Matrix{Int8}:\n",
       "  0   1   2   0   3    0    0    0   0  …    0    0    0    0    0   0   0  0\n",
       " -1   0   0   4   0    5    0    0   0       0    0    0    0    0   0   0  0\n",
       " -2   0   0   0   0    0    0    0   6       0    0    0    0    0   0   0  7\n",
       "  0  -4   0   0   0    0    0    0   8       0    0    0    0    0   0   0  0\n",
       " -3   0   0   0   0    0    0    0   0       0    0    0    0    0   0   0  0\n",
       "  0  -5   0   0   0    0    0    0   0  …    0    0    0    0    0   0   0  0\n",
       "  0   0   0   0   0    0    0   11   0       0    0    0    0    0   0   0  0\n",
       "  0   0   0   0   0    0  -11    0  12       0    0    0    0    0   0   0  0\n",
       "  0   0  -6  -8   0    0    0  -12   0       0    0    0    0    0   0   0  0\n",
       "  0   0   0   0  -9  -10    0  -13   0       0    0    0    0    0   0   0  0\n",
       "  ⋮                    ⋮                ⋱                        ⋮          \n",
       "  0   0   0   0   0    0    0    0   0  …   27    0   28    0    0   0   0  0\n",
       "  0   0   0   0   0    0    0    0   0       0   29    0    0    0  30   0  0\n",
       "  0   0   0   0   0    0    0    0   0     -29    0    0    0   31   0   0  0\n",
       "  0   0   0   0   0    0    0    0   0       0    0    0   32    0   0   0  0\n",
       "  0   0   0   0   0    0    0    0   0       0    0  -32    0    0   0  33  0\n",
       "  0   0   0   0   0    0    0    0   0  …    0  -31    0    0    0  34   0  0\n",
       "  0   0   0   0   0    0    0    0   0     -30    0    0    0  -34   0   0  0\n",
       "  0   0   0   0   0    0    0    0   0       0    0    0  -33    0   0   0  0\n",
       "  0   0  -7   0   0    0    0    0   0       0    0    0    0    0   0   0  0"
      ]
     },
     "metadata": {},
     "output_type": "display_data"
    }
   ],
   "source": [
    "# Define connections between nodes as an upper triangular matrix\n",
    "orig_n = [1, 1, 1, 2, 2, 3,  3, 4,  5,  6, 7, 8,  8,  9,  9, 10, 10, 11, 11, 12, 12, 13, 14, 15, 15, 15, 16, 16, 17, 17, 18, 19, 20, 21]\n",
    "dest_n = [2, 3, 5, 4, 6, 9, 24, 9, 10, 10, 8, 9, 10, 11, 12, 11, 12, 13, 14, 13, 23, 23, 16, 16, 21, 24, 17, 19, 18, 22, 21, 20, 23, 22]\n",
    "\n",
    "lines = zeros(Int8, n_N, n_N)\n",
    "\n",
    "for i in 1:size(orig_n)[1]\n",
    "    lines[orig_n[i], dest_n[i]] = i # incoming transmission lines\n",
    "    lines[dest_n[i], orig_n[i]] = -i # outgoing transmission lines\n",
    "end\n",
    "lines"
   ]
  },
  {
   "cell_type": "code",
   "execution_count": 51,
   "metadata": {},
   "outputs": [
    {
     "data": {
      "text/plain": [
       "34-element Vector{Int64}:\n",
       "  175\n",
       "  175\n",
       "  350\n",
       "  175\n",
       "  175\n",
       "  175\n",
       "  400\n",
       "  175\n",
       "  350\n",
       "  175\n",
       "    ⋮\n",
       "  500\n",
       "  500\n",
       "  500\n",
       "  500\n",
       "  500\n",
       " 1000\n",
       " 1000\n",
       " 1000\n",
       "  500"
      ]
     },
     "metadata": {},
     "output_type": "display_data"
    }
   ],
   "source": [
    "# demand \n",
    "D = [84, 75, 139, 58, 55, 106, 97, 132, 135, 150, 0, 0, 205, 150, 245, 77, 0, 258, 141, 100, 0, 0, 0, 0]\n",
    "\n",
    "# transmission line capacities\n",
    "F_max = [175, 175, 350, 175, 175, 175, 400, 175, 350, 175, 350, 175, 175, 400, 400, 400, 400,\n",
    "        500, 500, 500, 500, 250, 250, 500, 400, 500, 500, 500, 500, 500, 1000, 1000, 1000, 500]"
   ]
  },
  {
   "cell_type": "code",
   "execution_count": 52,
   "metadata": {},
   "outputs": [
    {
     "data": {
      "text/plain": [
       "3-element Vector{Vector{Int64}}:\n",
       " [500, 500, 500, 500]\n",
       " [150, 150, 300, 300]\n",
       " [50, 100, 200, 450]"
      ]
     },
     "metadata": {},
     "output_type": "display_data"
    }
   ],
   "source": [
    "# cost of generation for convetional generators\n",
    "c = [13.32, 13.32, 20.7, 20.93, 26.11, 10.52, 10.52, 6.02, 5.47, 7, 10.52, 10.89]\n",
    "# c = [20.93, 26.11, 10.52, 10.52, 6.02, 5.47, 7, 10.52, 10.89]\n",
    "\n",
    "# Location of the generators\n",
    "loc_G_c = [1, 2, 7, 13, 15, 15, 16, 18, 21, 22, 23, 23]\n",
    "# loc_G_c = [13, 15, 15, 16, 18, 21, 22, 23, 23]\n",
    "loc_G_r = [3, 5, 16, 21]\n",
    "# loc_G_r = [1, 2, 7, 3, 5, 16, 21]\n",
    "\n",
    "# maximum generation capacity of convetional generators\n",
    "P_c_max = [106.4, 106.4, 245, 413.7, 42, 108.5, 108.5, 280, 280, 210, 217, 245] \n",
    "# P_c_max = [413.7, 42, 108.5, 108.5, 280, 280, 210, 217, 245] \n",
    "\n",
    "# maximum generation capacity of renewable generators\n",
    "P_r_max = [\n",
    "    [500, 500, 500, 500], # t=1\n",
    "    [150, 150, 300, 300], # t=2\n",
    "    [50, 100, 200, 450]   # t=3\n",
    "]"
   ]
  },
  {
   "cell_type": "code",
   "execution_count": 53,
   "metadata": {},
   "outputs": [
    {
     "name": "stdout",
     "output_type": "stream",
     "text": [
      "Total demand: 2207\n",
      "Maximum supply of convetional generators: 2362.5\n",
      "Maximum supply of renewable generators: 2000\n"
     ]
    }
   ],
   "source": [
    "println(\"Total demand: \" * string(sum(D)))\n",
    "println(\"Maximum supply of convetional generators: \" * string(sum(P_c_max)))\n",
    "println(\"Maximum supply of renewable generators: \" * string(size(G_r)[1]*500))"
   ]
  },
  {
   "cell_type": "code",
   "execution_count": 54,
   "metadata": {},
   "outputs": [
    {
     "data": {
      "text/plain": [
       "24-element Vector{Int64}:\n",
       " 100\n",
       " 100\n",
       " 100\n",
       " 100\n",
       " 100\n",
       " 100\n",
       " 100\n",
       " 100\n",
       " 100\n",
       " 100\n",
       "   ⋮\n",
       " 100\n",
       " 100\n",
       " 100\n",
       " 100\n",
       " 100\n",
       " 100\n",
       " 100\n",
       " 100\n",
       " 100"
      ]
     },
     "metadata": {},
     "output_type": "display_data"
    }
   ],
   "source": [
    "# battery capacity\n",
    "B_max = [100, 100, 100, 100, 100, 100, 100, 100, 100, 100, 100, 100, 100, 100, 100, 100, 100, 100, 100, 100, 100, 100, 100, 100]"
   ]
  },
  {
   "attachments": {},
   "cell_type": "markdown",
   "metadata": {},
   "source": [
    "## Define and solve model"
   ]
  },
  {
   "cell_type": "code",
   "execution_count": 55,
   "metadata": {},
   "outputs": [
    {
     "data": {
      "text/plain": [
       "get_generator_for_node (generic function with 1 method)"
      ]
     },
     "metadata": {},
     "output_type": "display_data"
    }
   ],
   "source": [
    "function get_lines_for_node(node, incoming)\n",
    "    if incoming\n",
    "        return filter(i -> i >= 1.0, lines[node, 1:end])\n",
    "    end\n",
    "    return filter(i -> i <= -1.0, lines[node, 1:end])\n",
    "end\n",
    "\n",
    "function get_generator_for_node(node, loc_G)\n",
    "    return findall(i -> i == node, loc_G)\n",
    "end"
   ]
  },
  {
   "cell_type": "code",
   "execution_count": 56,
   "metadata": {},
   "outputs": [
    {
     "data": {
      "text/latex": [
       "$$ 3.33 P\\_c_{1,1,1} + 3.33 P\\_c_{1,1,2} + 3.33 P\\_c_{1,1,3} + 3.33 P\\_c_{1,1,4} + 3.33 P\\_c_{1,2,1} + 3.33 P\\_c_{1,2,2} + 3.33 P\\_c_{1,2,3} + 3.33 P\\_c_{1,2,4} + 3.33 P\\_c_{1,3,1} + 3.33 P\\_c_{1,3,2} + 3.33 P\\_c_{1,3,3} + 3.33 P\\_c_{1,3,4} + 3.33 P\\_c_{2,1,1} + 3.33 P\\_c_{2,1,2} + 3.33 P\\_c_{2,1,3} + 3.33 P\\_c_{2,1,4} + 3.33 P\\_c_{2,2,1} + 3.33 P\\_c_{2,2,2} + 3.33 P\\_c_{2,2,3} + 3.33 P\\_c_{2,2,4} + 3.33 P\\_c_{2,3,1} + 3.33 P\\_c_{2,3,2} + 3.33 P\\_c_{2,3,3} + 3.33 P\\_c_{2,3,4} + 5.175 P\\_c_{3,1,1} + 5.175 P\\_c_{3,1,2} + 5.175 P\\_c_{3,1,3} + 5.175 P\\_c_{3,1,4} + 5.175 P\\_c_{3,2,1} + 5.175 P\\_c_{3,2,2} + 5.175 P\\_c_{3,2,3} + 5.175 P\\_c_{3,2,4} + 5.175 P\\_c_{3,3,1} + 5.175 P\\_c_{3,3,2} + 5.175 P\\_c_{3,3,3} + 5.175 P\\_c_{3,3,4} + 5.2325 P\\_c_{4,1,1} + 5.2325 P\\_c_{4,1,2} + 5.2325 P\\_c_{4,1,3} + 5.2325 P\\_c_{4,1,4} + 5.2325 P\\_c_{4,2,1} + 5.2325 P\\_c_{4,2,2} + 5.2325 P\\_c_{4,2,3} + 5.2325 P\\_c_{4,2,4} + 5.2325 P\\_c_{4,3,1} + 5.2325 P\\_c_{4,3,2} + 5.2325 P\\_c_{4,3,3} + 5.2325 P\\_c_{4,3,4} + 6.5275 P\\_c_{5,1,1} + 6.5275 P\\_c_{5,1,2} + 6.5275 P\\_c_{5,1,3} + 6.5275 P\\_c_{5,1,4} + 6.5275 P\\_c_{5,2,1} + 6.5275 P\\_c_{5,2,2} + 6.5275 P\\_c_{5,2,3} + 6.5275 P\\_c_{5,2,4} + 6.5275 P\\_c_{5,3,1} + 6.5275 P\\_c_{5,3,2} + 6.5275 P\\_c_{5,3,3} + 6.5275 P\\_c_{5,3,4} + 2.63 P\\_c_{6,1,1} + 2.63 P\\_c_{6,1,2} + 2.63 P\\_c_{6,1,3} + 2.63 P\\_c_{6,1,4} + 2.63 P\\_c_{6,2,1} + 2.63 P\\_c_{6,2,2} + 2.63 P\\_c_{6,2,3} + 2.63 P\\_c_{6,2,4} + 2.63 P\\_c_{6,3,1} + 2.63 P\\_c_{6,3,2} + 2.63 P\\_c_{6,3,3} + 2.63 P\\_c_{6,3,4} + 2.63 P\\_c_{7,1,1} + 2.63 P\\_c_{7,1,2} + 2.63 P\\_c_{7,1,3} + 2.63 P\\_c_{7,1,4} + 2.63 P\\_c_{7,2,1} + 2.63 P\\_c_{7,2,2} + 2.63 P\\_c_{7,2,3} + 2.63 P\\_c_{7,2,4} + 2.63 P\\_c_{7,3,1} + 2.63 P\\_c_{7,3,2} + 2.63 P\\_c_{7,3,3} + 2.63 P\\_c_{7,3,4} + 1.505 P\\_c_{8,1,1} + 1.505 P\\_c_{8,1,2} + 1.505 P\\_c_{8,1,3} + 1.505 P\\_c_{8,1,4} + 1.505 P\\_c_{8,2,1} + 1.505 P\\_c_{8,2,2} + 1.505 P\\_c_{8,2,3} + 1.505 P\\_c_{8,2,4} + 1.505 P\\_c_{8,3,1} + 1.505 P\\_c_{8,3,2} + 1.505 P\\_c_{8,3,3} + 1.505 P\\_c_{8,3,4} + 1.3675 P\\_c_{9,1,1} + 1.3675 P\\_c_{9,1,2} + 1.3675 P\\_c_{9,1,3} + 1.3675 P\\_c_{9,1,4} + 1.3675 P\\_c_{9,2,1} + 1.3675 P\\_c_{9,2,2} + 1.3675 P\\_c_{9,2,3} + 1.3675 P\\_c_{9,2,4} + 1.3675 P\\_c_{9,3,1} + 1.3675 P\\_c_{9,3,2} + 1.3675 P\\_c_{9,3,3} + 1.3675 P\\_c_{9,3,4} + 1.75 P\\_c_{10,1,1} + 1.75 P\\_c_{10,1,2} + 1.75 P\\_c_{10,1,3} + 1.75 P\\_c_{10,1,4} + 1.75 P\\_c_{10,2,1} + 1.75 P\\_c_{10,2,2} + 1.75 P\\_c_{10,2,3} + 1.75 P\\_c_{10,2,4} + 1.75 P\\_c_{10,3,1} + 1.75 P\\_c_{10,3,2} + 1.75 P\\_c_{10,3,3} + 1.75 P\\_c_{10,3,4} + 2.63 P\\_c_{11,1,1} + 2.63 P\\_c_{11,1,2} + 2.63 P\\_c_{11,1,3} + 2.63 P\\_c_{11,1,4} + 2.63 P\\_c_{11,2,1} + 2.63 P\\_c_{11,2,2} + 2.63 P\\_c_{11,2,3} + 2.63 P\\_c_{11,2,4} + 2.63 P\\_c_{11,3,1} + 2.63 P\\_c_{11,3,2} + 2.63 P\\_c_{11,3,3} + 2.63 P\\_c_{11,3,4} + 2.7225 P\\_c_{12,1,1} + 2.7225 P\\_c_{12,1,2} + 2.7225 P\\_c_{12,1,3} + 2.7225 P\\_c_{12,1,4} + 2.7225 P\\_c_{12,2,1} + 2.7225 P\\_c_{12,2,2} + 2.7225 P\\_c_{12,2,3} + 2.7225 P\\_c_{12,2,4} + 2.7225 P\\_c_{12,3,1} + 2.7225 P\\_c_{12,3,2} + 2.7225 P\\_c_{12,3,3} + 2.7225 P\\_c_{12,3,4} $$"
      ],
      "text/plain": [
       "3.33 P_c[1,1,1] + 3.33 P_c[1,1,2] + 3.33 P_c[1,1,3] + 3.33 P_c[1,1,4] + 3.33 P_c[1,2,1] + 3.33 P_c[1,2,2] + 3.33 P_c[1,2,3] + 3.33 P_c[1,2,4] + 3.33 P_c[1,3,1] + 3.33 P_c[1,3,2] + 3.33 P_c[1,3,3] + 3.33 P_c[1,3,4] + 3.33 P_c[2,1,1] + 3.33 P_c[2,1,2] + 3.33 P_c[2,1,3] + 3.33 P_c[2,1,4] + 3.33 P_c[2,2,1] + 3.33 P_c[2,2,2] + 3.33 P_c[2,2,3] + 3.33 P_c[2,2,4] + 3.33 P_c[2,3,1] + 3.33 P_c[2,3,2] + 3.33 P_c[2,3,3] + 3.33 P_c[2,3,4] + 5.175 P_c[3,1,1] + 5.175 P_c[3,1,2] + 5.175 P_c[3,1,3] + 5.175 P_c[3,1,4] + 5.175 P_c[3,2,1] + 5.175 P_c[3,2,2] + 5.175 P_c[3,2,3] + 5.175 P_c[3,2,4] + 5.175 P_c[3,3,1] + 5.175 P_c[3,3,2] + 5.175 P_c[3,3,3] + 5.175 P_c[3,3,4] + 5.2325 P_c[4,1,1] + 5.2325 P_c[4,1,2] + 5.2325 P_c[4,1,3] + 5.2325 P_c[4,1,4] + 5.2325 P_c[4,2,1] + 5.2325 P_c[4,2,2] + 5.2325 P_c[4,2,3] + 5.2325 P_c[4,2,4] + 5.2325 P_c[4,3,1] + 5.2325 P_c[4,3,2] + 5.2325 P_c[4,3,3] + 5.2325 P_c[4,3,4] + 6.5275 P_c[5,1,1] + 6.5275 P_c[5,1,2] + 6.5275 P_c[5,1,3] + 6.5275 P_c[5,1,4] + 6.5275 P_c[5,2,1] + 6.5275 P_c[5,2,2] + 6.5275 P_c[5,2,3] + 6.5275 P_c[5,2,4] + 6.5275 P_c[5,3,1] + 6.5275 P_c[5,3,2] + 6.5275 P_c[5,3,3] + 6.5275 P_c[5,3,4] + 2.63 P_c[6,1,1] + 2.63 P_c[6,1,2] + 2.63 P_c[6,1,3] + 2.63 P_c[6,1,4] + 2.63 P_c[6,2,1] + 2.63 P_c[6,2,2] + 2.63 P_c[6,2,3] + 2.63 P_c[6,2,4] + 2.63 P_c[6,3,1] + 2.63 P_c[6,3,2] + 2.63 P_c[6,3,3] + 2.63 P_c[6,3,4] + 2.63 P_c[7,1,1] + 2.63 P_c[7,1,2] + 2.63 P_c[7,1,3] + 2.63 P_c[7,1,4] + 2.63 P_c[7,2,1] + 2.63 P_c[7,2,2] + 2.63 P_c[7,2,3] + 2.63 P_c[7,2,4] + 2.63 P_c[7,3,1] + 2.63 P_c[7,3,2] + 2.63 P_c[7,3,3] + 2.63 P_c[7,3,4] + 1.505 P_c[8,1,1] + 1.505 P_c[8,1,2] + 1.505 P_c[8,1,3] + 1.505 P_c[8,1,4] + 1.505 P_c[8,2,1] + 1.505 P_c[8,2,2] + 1.505 P_c[8,2,3] + 1.505 P_c[8,2,4] + 1.505 P_c[8,3,1] + 1.505 P_c[8,3,2] + 1.505 P_c[8,3,3] + 1.505 P_c[8,3,4] + 1.3675 P_c[9,1,1] + 1.3675 P_c[9,1,2] + 1.3675 P_c[9,1,3] + 1.3675 P_c[9,1,4] + 1.3675 P_c[9,2,1] + 1.3675 P_c[9,2,2] + 1.3675 P_c[9,2,3] + 1.3675 P_c[9,2,4] + 1.3675 P_c[9,3,1] + 1.3675 P_c[9,3,2] + 1.3675 P_c[9,3,3] + 1.3675 P_c[9,3,4] + 1.75 P_c[10,1,1] + 1.75 P_c[10,1,2] + 1.75 P_c[10,1,3] + 1.75 P_c[10,1,4] + 1.75 P_c[10,2,1] + 1.75 P_c[10,2,2] + 1.75 P_c[10,2,3] + 1.75 P_c[10,2,4] + 1.75 P_c[10,3,1] + 1.75 P_c[10,3,2] + 1.75 P_c[10,3,3] + 1.75 P_c[10,3,4] + 2.63 P_c[11,1,1] + 2.63 P_c[11,1,2] + 2.63 P_c[11,1,3] + 2.63 P_c[11,1,4] + 2.63 P_c[11,2,1] + 2.63 P_c[11,2,2] + 2.63 P_c[11,2,3] + 2.63 P_c[11,2,4] + 2.63 P_c[11,3,1] + 2.63 P_c[11,3,2] + 2.63 P_c[11,3,3] + 2.63 P_c[11,3,4] + 2.7225 P_c[12,1,1] + 2.7225 P_c[12,1,2] + 2.7225 P_c[12,1,3] + 2.7225 P_c[12,1,4] + 2.7225 P_c[12,2,1] + 2.7225 P_c[12,2,2] + 2.7225 P_c[12,2,3] + 2.7225 P_c[12,2,4] + 2.7225 P_c[12,3,1] + 2.7225 P_c[12,3,2] + 2.7225 P_c[12,3,3] + 2.7225 P_c[12,3,4]"
      ]
     },
     "metadata": {},
     "output_type": "display_data"
    }
   ],
   "source": [
    "model = Model(HiGHS.Optimizer)\n",
    "\n",
    "@variable(model, P_c_max[g] >= P_c[g in G_c, t in T, ω in Ω] >= 0) \n",
    "@variable(model, P_r_max[t][ω] >= P_r[g in G_r, t in T, ω in Ω] >= 0) \n",
    "@variable(model, F_max[l] >= F[l in L, t in T, ω in Ω] >= -F_max[l])\n",
    "@variable(model, D[n] >= L_shed[n in N] >= 0)\n",
    "\n",
    "@variable(model, B_max[n] >= B[n in N, t in vcat([0],T), ω in Ω] >= 0) \n",
    "@variable(model, ΔB[n in N, t in T, ω in Ω])\n",
    "\n",
    "@constraint(model, init_battery_charge[n in N, ω in Ω], B[n,0,ω] == 0)\n",
    "@constraint(model, battery_charge[n in N, t in T, ω in Ω], B[n,t-1,ω] + ΔB[n,t,ω] == B[n,t,ω])\n",
    "\n",
    "@constraint(model, power_flow[n in N, t in T, ω in Ω], \n",
    "    sum(P_c[g,t,ω] for g in get_generator_for_node(n, loc_G_c))\n",
    "    + sum(P_r[g,t,ω] for g in get_generator_for_node(n, loc_G_r))\n",
    "    - D[n]\n",
    "    + L_shed[n]\n",
    "    + sum(F[i,t,ω] for i in get_lines_for_node(n, true))\n",
    "    - sum(F[-i,t,ω] for i in get_lines_for_node(n, false))\n",
    "    - ΔB[n,t,ω]\n",
    "    == 0\n",
    ")\n",
    "\n",
    "for g in G_r\n",
    "    for ω in Ω[2:end]\n",
    "        @constraint(model, P_r[g,1,ω-1]==P_r[g,1,ω])\n",
    "    end\n",
    "\n",
    "    @constraint(model, P_r[g,2,1]==P_r[g,2,2])\n",
    "    @constraint(model, P_r[g,2,3]==P_r[g,2,4])\n",
    "end\n",
    "\n",
    "@objective(model, Min, sum(π_ω[ω]*c[g]*P_c[g,t,ω] for g in G_c, t in T, ω in Ω) + 100000*sum(L_shed[n] for n in N))"
   ]
  },
  {
   "cell_type": "code",
   "execution_count": 57,
   "metadata": {},
   "outputs": [
    {
     "name": "stdout",
     "output_type": "stream",
     "text": [
      "Running HiGHS 1.4.2 [date: 1970-01-01, git hash: f797c1ab6]\n",
      "Copyright (c) 2022 ERGO-Code under MIT licence terms\n",
      "Presolving model\n",
      "480 rows, 1077 cols, 2076 nonzeros\n",
      "456 rows, 1053 cols, 2028 nonzeros\n",
      "Presolve : Reductions: rows 456(-236); columns 1053(-243); elements 2028(-556)\n",
      "Solving the presolved LP\n",
      "Using EKK dual simplex solver - serial\n",
      "  Iteration        Objective     Infeasibilities num(sum)\n",
      "          0    -2.2342224920e-02 Pr: 264(112596); Du: 0(6.21502e-11) 0s\n",
      "        594     0.0000000000e+00 Pr: 0(0) 0s\n",
      "Solving the original LP from the solution after postsolve\n",
      "Model   status      : Optimal\n",
      "Simplex   iterations: 594\n",
      "Objective value     :  0.0000000000e+00\n",
      "HiGHS run time      :          0.01\n"
     ]
    }
   ],
   "source": [
    "optimize!(model)"
   ]
  },
  {
   "cell_type": "code",
   "execution_count": 58,
   "metadata": {},
   "outputs": [
    {
     "data": {
      "text/plain": [
       "0.0"
      ]
     },
     "metadata": {},
     "output_type": "display_data"
    }
   ],
   "source": [
    "objective_value(model)"
   ]
  },
  {
   "cell_type": "markdown",
   "metadata": {},
   "source": [
    "## View results"
   ]
  },
  {
   "cell_type": "code",
   "execution_count": 59,
   "metadata": {},
   "outputs": [
    {
     "data": {
      "text/plain": [
       "Dict{String, Any} with 6 entries:\n",
       "  \"ΔB\"        => 3-dimensional DenseAxisArray{Float64,3,...} with index sets:…\n",
       "  \"B\"         => 3-dimensional DenseAxisArray{Float64,3,...} with index sets:…\n",
       "  \"P_r\"       => 3-dimensional DenseAxisArray{Float64,3,...} with index sets:…\n",
       "  \"objective\" => 0.0\n",
       "  \"P_c\"       => 3-dimensional DenseAxisArray{Float64,3,...} with index sets:…\n",
       "  \"F\"         => 3-dimensional DenseAxisArray{Float64,3,...} with index sets:…"
      ]
     },
     "metadata": {},
     "output_type": "display_data"
    }
   ],
   "source": [
    "results = Dict(\n",
    "    \"P_c\" => value.(P_c),\n",
    "    \"P_r\" => value.(P_r),\n",
    "    \"F\" => value.(F),\n",
    "    \"B\" => value.(B),\n",
    "    \"ΔB\" => value.(ΔB),\n",
    "    \"objective\" => objective_value(model)\n",
    ")"
   ]
  },
  {
   "cell_type": "code",
   "execution_count": 61,
   "metadata": {},
   "outputs": [
    {
     "name": "stdout",
     "output_type": "stream",
     "text": [
      "3-dimensional DenseAxisArray{Float64,3,...} with index sets:\n",
      "    Dimension 1, [1, 2, 3, 4, 5, 6, 7, 8, 9, 10, 11, 12]\n",
      "    Dimension 2, [1, 2, 3]\n",
      "    Dimension 3, [1, 2, 3, 4]\n",
      "And data, a 12×3×4 Array{Float64, 3}:\n",
      "[:, :, 1] =\n",
      " 0.0  0.0  0.0\n",
      " 0.0  0.0  0.0\n",
      " 0.0  0.0  0.0\n",
      " 0.0  0.0  0.0\n",
      " 0.0  0.0  0.0\n",
      " 0.0  0.0  0.0\n",
      " 0.0  0.0  0.0\n",
      " 0.0  0.0  0.0\n",
      " 0.0  0.0  0.0\n",
      " 0.0  0.0  0.0\n",
      " 0.0  0.0  0.0\n",
      " 0.0  0.0  0.0\n",
      "\n",
      "[:, :, 2] =\n",
      " 0.0  0.0  0.0\n",
      " 0.0  0.0  0.0\n",
      " 0.0  0.0  0.0\n",
      " 0.0  0.0  0.0\n",
      " 0.0  0.0  0.0\n",
      " 0.0  0.0  0.0\n",
      " 0.0  0.0  0.0\n",
      " 0.0  0.0  0.0\n",
      " 0.0  0.0  0.0\n",
      " 0.0  0.0  0.0\n",
      " 0.0  0.0  0.0\n",
      " 0.0  0.0  0.0\n",
      "\n",
      "[:, :, 3] =\n",
      " 0.0  0.0  0.0\n",
      " 0.0  0.0  0.0\n",
      " 0.0  0.0  0.0\n",
      " 0.0  0.0  0.0\n",
      " 0.0  0.0  0.0\n",
      " 0.0  0.0  0.0\n",
      " 0.0  0.0  0.0\n",
      " 0.0  0.0  0.0\n",
      " 0.0  0.0  0.0\n",
      " 0.0  0.0  0.0\n",
      " 0.0  0.0  0.0\n",
      " 0.0  0.0  0.0\n",
      "\n",
      "[:, :, 4] =\n",
      " 0.0  0.0  0.0\n",
      " 0.0  0.0  0.0\n",
      " 0.0  0.0  0.0\n",
      " 0.0  0.0  0.0\n",
      " 0.0  0.0  0.0\n",
      " 0.0  0.0  0.0\n",
      " 0.0  0.0  0.0\n",
      " 0.0  0.0  0.0\n",
      " 0.0  0.0  0.0\n",
      " 0.0  0.0  0.0\n",
      " 0.0  0.0  0.0\n",
      " 0.0  0.0  0.0"
     ]
    }
   ],
   "source": [
    "print(value.(P_c))"
   ]
  },
  {
   "cell_type": "code",
   "execution_count": 62,
   "metadata": {},
   "outputs": [
    {
     "name": "stdout",
     "output_type": "stream",
     "text": [
      "3-dimensional DenseAxisArray{Float64,3,...} with index sets:\n",
      "    Dimension 1, [1, 2, 3, 4]\n",
      "    Dimension 2, [1, 2, 3]\n",
      "    Dimension 3, [1, 2, 3, 4]\n",
      "And data, a 4×3×4 Array{Float64, 3}:\n",
      "[:, :, 1] =\n",
      " -0.0  -0.0  0.0\n",
      " -0.0  -0.0  0.0\n",
      " -0.0  -0.0  0.0\n",
      " -0.0  -0.0  0.0\n",
      "\n",
      "[:, :, 2] =\n",
      " -0.0  0.0  0.0\n",
      " -0.0  0.0  0.0\n",
      " -0.0  0.0  0.0\n",
      " -0.0  0.0  0.0\n",
      "\n",
      "[:, :, 3] =\n",
      "  0.0  -0.0  0.0\n",
      "  0.0  -0.0  0.0\n",
      "  0.0  -0.0  0.0\n",
      " -0.0  -0.0  0.0\n",
      "\n",
      "[:, :, 4] =\n",
      " -0.0  0.0   0.0\n",
      " -0.0  0.0   0.0\n",
      " -0.0  0.0  -0.0\n",
      " -0.0  0.0   0.0"
     ]
    }
   ],
   "source": [
    "print(value.(P_r))"
   ]
  },
  {
   "cell_type": "code",
   "execution_count": 63,
   "metadata": {},
   "outputs": [
    {
     "name": "stdout",
     "output_type": "stream",
     "text": [
      "3-dimensional DenseAxisArray{Float64,3,...} with index sets:\n",
      "    Dimension 1, [1, 2, 3, 4, 5, 6, 7, 8, 9, 10  …  15, 16, 17, 18, 19, 20, 21, 22, 23, 24]\n",
      "    Dimension 2, [0, 1, 2, 3]\n",
      "    Dimension 3, [1, 2, 3, 4]\n",
      "And data, a 24×4×4 Array{Float64, 3}:\n",
      "[:, :, 1] =\n",
      " 0.0  0.0  0.0  0.0\n",
      " 0.0  0.0  0.0  0.0\n",
      " 0.0  0.0  0.0  0.0\n",
      " 0.0  0.0  0.0  0.0\n",
      " 0.0  0.0  0.0  0.0\n",
      " 0.0  0.0  0.0  0.0\n",
      " 0.0  0.0  0.0  0.0\n",
      " 0.0  0.0  0.0  0.0\n",
      " 0.0  0.0  0.0  0.0\n",
      " 0.0  0.0  0.0  0.0\n",
      " 0.0  0.0  0.0  0.0\n",
      " 0.0  0.0  0.0  0.0\n",
      " 0.0  0.0  0.0  0.0\n",
      " 0.0  0.0  0.0  0.0\n",
      " 0.0  0.0  0.0  0.0\n",
      " 0.0  0.0  0.0  0.0\n",
      " 0.0  0.0  0.0  0.0\n",
      " 0.0  0.0  0.0  0.0\n",
      " 0.0  0.0  0.0  0.0\n",
      " 0.0  0.0  0.0  0.0\n",
      " 0.0  0.0  0.0  0.0\n",
      " 0.0  0.0  0.0  0.0\n",
      " 0.0  0.0  0.0  0.0\n",
      " 0.0  0.0  0.0  0.0\n",
      "\n",
      "[:, :, 2] =\n",
      " 0.0  0.0  0.0  0.0\n",
      " 0.0  0.0  0.0  0.0\n",
      " 0.0  0.0  0.0  0.0\n",
      " 0.0  0.0  0.0  0.0\n",
      " 0.0  0.0  0.0  0.0\n",
      " 0.0  0.0  0.0  0.0\n",
      " 0.0  0.0  0.0  0.0\n",
      " 0.0  0.0  0.0  0.0\n",
      " 0.0  0.0  0.0  0.0\n",
      " 0.0  0.0  0.0  0.0\n",
      " 0.0  0.0  0.0  0.0\n",
      " 0.0  0.0  0.0  0.0\n",
      " 0.0  0.0  0.0  0.0\n",
      " 0.0  0.0  0.0  0.0\n",
      " 0.0  0.0  0.0  0.0\n",
      " 0.0  0.0  0.0  0.0\n",
      " 0.0  0.0  0.0  0.0\n",
      " 0.0  0.0  0.0  0.0\n",
      " 0.0  0.0  0.0  0.0\n",
      " 0.0  0.0  0.0  0.0\n",
      " 0.0  0.0  0.0  0.0\n",
      " 0.0  0.0  0.0  0.0\n",
      " 0.0  0.0  0.0  0.0\n",
      " 0.0  0.0  0.0  0.0\n",
      "\n",
      "[:, :, 3] =\n",
      " 0.0  0.0  0.0  0.0\n",
      " 0.0  0.0  0.0  0.0\n",
      " 0.0  0.0  0.0  0.0\n",
      " 0.0  0.0  0.0  0.0\n",
      " 0.0  0.0  0.0  0.0\n",
      " 0.0  0.0  0.0  0.0\n",
      " 0.0  0.0  0.0  0.0\n",
      " 0.0  0.0  0.0  0.0\n",
      " 0.0  0.0  0.0  0.0\n",
      " 0.0  0.0  0.0  0.0\n",
      " 0.0  0.0  0.0  0.0\n",
      " 0.0  0.0  0.0  0.0\n",
      " 0.0  0.0  0.0  0.0\n",
      " 0.0  0.0  0.0  0.0\n",
      " 0.0  0.0  0.0  0.0\n",
      " 0.0  0.0  0.0  0.0\n",
      " 0.0  0.0  0.0  0.0\n",
      " 0.0  0.0  0.0  0.0\n",
      " 0.0  0.0  0.0  0.0\n",
      " 0.0  0.0  0.0  0.0\n",
      " 0.0  0.0  0.0  0.0\n",
      " 0.0  0.0  0.0  0.0\n",
      " 0.0  0.0  0.0  0.0\n",
      " 0.0  0.0  0.0  0.0\n",
      "\n",
      "[:, :, 4] =\n",
      " 0.0  0.0  0.0  0.0\n",
      " 0.0  0.0  0.0  0.0\n",
      " 0.0  0.0  0.0  0.0\n",
      " 0.0  0.0  0.0  0.0\n",
      " 0.0  0.0  0.0  0.0\n",
      " 0.0  0.0  0.0  0.0\n",
      " 0.0  0.0  0.0  0.0\n",
      " 0.0  0.0  0.0  0.0\n",
      " 0.0  0.0  0.0  0.0\n",
      " 0.0  0.0  0.0  0.0\n",
      " 0.0  0.0  0.0  0.0\n",
      " 0.0  0.0  0.0  0.0\n",
      " 0.0  0.0  0.0  0.0\n",
      " 0.0  0.0  0.0  0.0\n",
      " 0.0  0.0  0.0  0.0\n",
      " 0.0  0.0  0.0  0.0\n",
      " 0.0  0.0  0.0  0.0\n",
      " 0.0  0.0  0.0  0.0\n",
      " 0.0  0.0  0.0  0.0\n",
      " 0.0  0.0  0.0  0.0\n",
      " 0.0  0.0  0.0  0.0\n",
      " 0.0  0.0  0.0  0.0\n",
      " 0.0  0.0  0.0  0.0\n",
      " 0.0  0.0  0.0  0.0"
     ]
    }
   ],
   "source": [
    "print(value.(B))"
   ]
  },
  {
   "cell_type": "code",
   "execution_count": 64,
   "metadata": {},
   "outputs": [
    {
     "data": {
      "text/plain": [
       "2-dimensional DenseAxisArray{Float64,2,...} with index sets:\n",
       "    Dimension 1, [1, 2, 3, 4, 5, 6, 7, 8, 9, 10  …  15, 16, 17, 18, 19, 20, 21, 22, 23, 24]\n",
       "    Dimension 2, [1, 2, 3]\n",
       "And data, a 24×3 Matrix{Float64}:\n",
       " -0.0  -0.0  -0.0\n",
       " -0.0  -0.0  -0.0\n",
       " -0.0  -0.0  -0.0\n",
       " -0.0  -0.0  -0.0\n",
       " -0.0  -0.0  -0.0\n",
       " -0.0  -0.0  -0.0\n",
       " -0.0  -0.0  -0.0\n",
       " -0.0  -0.0  -0.0\n",
       " -0.0  -0.0  -0.0\n",
       " -0.0  -0.0  -0.0\n",
       "  ⋮          \n",
       " -0.0  -0.0  -0.0\n",
       " -0.0  -0.0  -0.0\n",
       " -0.0  -0.0  -0.0\n",
       " -0.0  -0.0  -0.0\n",
       " -0.0  -0.0  -0.0\n",
       " -0.0  -0.0  -0.0\n",
       " -0.0  -0.0  -0.0\n",
       " -0.0  -0.0  -0.0\n",
       " -0.0  -0.0  -0.0"
      ]
     },
     "metadata": {},
     "output_type": "display_data"
    }
   ],
   "source": [
    "value.(ΔB)[:,:,4]"
   ]
  },
  {
   "cell_type": "code",
   "execution_count": 65,
   "metadata": {},
   "outputs": [],
   "source": []
  }
 ],
 "metadata": {
  "kernelspec": {
   "display_name": "Julia 1.8.5",
   "language": "julia",
   "name": "julia-1.8"
  },
  "language_info": {
   "file_extension": ".jl",
   "mimetype": "application/julia",
   "name": "julia",
   "version": "1.8.5"
  },
  "orig_nbformat": 4
 },
 "nbformat": 4,
 "nbformat_minor": 2
}
